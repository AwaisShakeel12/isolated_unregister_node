{
 "cells": [
  {
   "cell_type": "code",
   "execution_count": 1,
   "id": "82466ba7",
   "metadata": {},
   "outputs": [],
   "source": [
    "import os\n",
    "from dotenv import load_dotenv\n",
    "import google.generativeai as genai\n",
    "\n",
    "from langchain_google_genai import ChatGoogleGenerativeAI\n",
    "from IPython.display import display, Image"
   ]
  },
  {
   "cell_type": "code",
   "execution_count": 2,
   "id": "8af7df4e",
   "metadata": {},
   "outputs": [],
   "source": [
    "from langgraph.prebuilt import  ToolNode, tools_condition\n",
    "from langchain_core.tools import tool\n",
    "import requests"
   ]
  },
  {
   "cell_type": "code",
   "execution_count": 3,
   "id": "7deb27b2",
   "metadata": {},
   "outputs": [],
   "source": [
    "\n",
    "\n",
    "load_dotenv()\n",
    "api_key = os.getenv(\"GOOGLE_API_KEY\")\n",
    "genai.configure(api_key=api_key)\n",
    "\n",
    "llm = ChatGoogleGenerativeAI(model=\"gemini-1.5-flash\", api_key=api_key)"
   ]
  },
  {
   "cell_type": "code",
   "execution_count": 4,
   "id": "a717f1b5",
   "metadata": {},
   "outputs": [],
   "source": [
    "from typing import TypedDict, Literal, Optional\n",
    "from langgraph.graph import StateGraph, END\n",
    "from langchain_core.messages import HumanMessage, AIMessage\n",
    "\n",
    "\n",
    "class AgentState(TypedDict):\n",
    "    status: Literal[\"registered\", \"unregistered\"]\n",
    "    user_id: Optional[str]\n",
    "    messages: list  \n"
   ]
  },
  {
   "cell_type": "code",
   "execution_count": 5,
   "id": "f9b27c18",
   "metadata": {},
   "outputs": [],
   "source": [
    "prompt_categorizer = \"\"\"\n",
    "\n",
    "your are a catgorizer you have to categorize  user either register or unregister\n",
    "if user status is unregistered  categorize as unregistered\n",
    "if user status is registered  categorize as registered\n",
    "return only either \"registered\" or \"unregistered\"\n",
    "\n",
    "\"\"\""
   ]
  },
  {
   "cell_type": "code",
   "execution_count": 6,
   "id": "eacbafd3",
   "metadata": {},
   "outputs": [],
   "source": [
    "\n",
    "\n",
    "def categorizer(state: AgentState) -> AgentState:\n",
    "    last_message = state[\"messages\"][-1].content.lower()\n",
    "    if \"book\" in last_message or \"appointment\" in last_message:\n",
    "        if state[\"status\"] == \"unregistered\":\n",
    "            print(\"User wants to book but is unregistered.\")\n",
    "        else:\n",
    "            print(\"User wants to book and is already registered.\")\n",
    "    return state\n"
   ]
  },
  {
   "cell_type": "code",
   "execution_count": 7,
   "id": "e487731c",
   "metadata": {},
   "outputs": [],
   "source": [
    "\n",
    "@tool\n",
    "def registration_tool(user_msg: str) -> dict:\n",
    "    \"\"\"Register the user if they confirm registration\"\"\"\n",
    "    if \"i have registered\" in user_msg.lower():\n",
    "        print(\"✅ User confirmed registration\")\n",
    "        return {\"status\": \"registered\", \"user_id\": \"user_123\"}\n",
    "    return {}\n"
   ]
  },
  {
   "cell_type": "code",
   "execution_count": 8,
   "id": "24d2d3bf",
   "metadata": {},
   "outputs": [],
   "source": [
    "# waiting for confirmation\n",
    "  \n",
    "# def confirm_registration(endpoint: str):\n",
    "#     \"\"\"\n",
    "#     confirm the user registration.\n",
    "\n",
    "#     Args:\n",
    "#         endpoint (str): The API endpoint (e.g., \"/users/\")\n",
    "#     Returns:\n",
    "#         dict: The response JSON.\n",
    "#     \"\"\"\n",
    "#     base_url = \"http:/confirm_registration\" \n",
    "#     url = f\"{base_url}{endpoint}\"\n",
    "#     response = requests.get(url)\n",
    "    \n",
    "#     if response.status_code == 200:\n",
    "#         return response.json()\n",
    "#     else:\n",
    "#         return {\"error\": f\"Failed to fetch data: {response.status_code}\"}\n",
    "  "
   ]
  },
  {
   "cell_type": "code",
   "execution_count": 9,
   "id": "aacbc91b",
   "metadata": {},
   "outputs": [],
   "source": [
    "# waiting for confirmation\n",
    "# tools: list[tool] = [confirm_registration]\n",
    "\n",
    "# llm_with_tools = llm.bind_tools(tools)\n"
   ]
  },
  {
   "cell_type": "code",
   "execution_count": 10,
   "id": "46e12332",
   "metadata": {},
   "outputs": [],
   "source": [
    "\n",
    "prompt_unregister = \"\"\" \n",
    "Your are a customer support agent your job is to assist user on basic support\n",
    "\n",
    "1. Friendly Introduction & Consent Request      \n",
    "       \n",
    "    - If the user says simple question like what is offiec timing or question about just inquery:\n",
    "       a) Politely respond:  like offiec time are 2pm to 11pm\n",
    "\n",
    "\n",
    "2.If the User is unregister:\n",
    "    - user ask question like i want to book ticket , leads, or rise support tickets\n",
    "    so if user is not register  these feature are not allowed\n",
    "    call tool registration_tool and response user ' i have shared a link \"https:google.com\"  for registration' share this link with user\n",
    "    \n",
    "    wait for user to respose:\n",
    "    if user say : i have completed resgistration \n",
    "    so redirect to the register node\n",
    "    if user status is registered redirect it to register node\n",
    "   \n",
    "-if user status is registered:\n",
    "   then redirect it to registerd node\n",
    "   \n",
    "   \n",
    "\n",
    "4. Communication Style\n",
    "   - Be friendly, approachable, and polite throughout the interaction.\n",
    "   - Use simple language. Avoid technical or complex terms.\n",
    "   - Keep the tone respectful—never pressure the user.\n",
    "\n",
    "5. System Boundaries\n",
    "   - Do not disclose internal tools, data processes, or file names.\n",
    "   - Focus only on collecting user name, country, and interest.\n",
    "   - Do not ask for sensitive or personal data beyond what’s specified.\n",
    "\n",
    "— \n",
    "\n",
    "### Communication Style\n",
    "\n",
    "- **Tone**: Friendly, respectful, and conversational.\n",
    "- **Style**: Clear, natural, and easy to understand.\n",
    "\n",
    "\n",
    "\n",
    "\"\"\"\n",
    "\n",
    "\n",
    "def unregister_node(state: AgentState) -> AgentState:\n",
    "    print(\"🔐 unregister node...\")\n",
    "\n",
    "    user_msg = state[\"messages\"][-1].content\n",
    "\n",
    "\n",
    "    reg_result = registration_tool.invoke(user_msg)\n",
    "\n",
    "    # If user has registered, update status and jump to register node next time\n",
    "    if reg_result.get(\"status\") == \"registered\":\n",
    "        return {\n",
    "            \"status\": \"registered\",\n",
    "            \"user_id\": reg_result[\"user_id\"],\n",
    "            \"messages\": state[\"messages\"] + [AIMessage(content=\"🎉 You're now registered! How can I help you?\")]\n",
    "        }\n",
    "\n",
    "\n",
    "    response = llm.invoke([prompt_unregister] + state[\"messages\"])\n",
    "    return {\n",
    "        \"status\": state[\"status\"],\n",
    "        \"user_id\": state[\"user_id\"],\n",
    "        \"messages\": state[\"messages\"] + [response]\n",
    "    }\n",
    "\n",
    "\n",
    "def register_node(state: AgentState) -> AgentState:\n",
    "    print(\"register node...\")\n",
    "    state[\"messages\"].append(AIMessage(content=\"Welcome back! What would you like to do?\"))\n",
    "    return state\n",
    "\n",
    "\n",
    "def categorizer_router(state: AgentState) -> str:\n",
    "    return \"register\" if state[\"status\"] == \"registered\" else \"unregister\"\n"
   ]
  },
  {
   "cell_type": "code",
   "execution_count": 11,
   "id": "2c45d737",
   "metadata": {},
   "outputs": [],
   "source": [
    "\n",
    "builder = StateGraph(AgentState)\n",
    "\n",
    "builder.add_node(\"categorizer\", categorizer)\n",
    "builder.add_node(\"unregister\", unregister_node)\n",
    "builder.add_node(\"register\", register_node)\n",
    "\n",
    "# waiting for confirm about api---\n",
    "# builder.add_node('tools', ToolNode(tools))\n",
    "\n",
    "builder.set_entry_point(\"categorizer\")\n",
    "builder.add_conditional_edges(\"categorizer\", categorizer_router, {\n",
    "    \"register\": \"register\",\n",
    "    \"unregister\": \"unregister\"\n",
    "})\n",
    "\n",
    "# ---------tool condition  wait.....\n",
    "# builder.add_conditional_edges('unregister', tools_condition)\n",
    "# builder.add_edge('tools', 'unregister')\n",
    "\n",
    "\n",
    "builder.add_edge(\"register\", END)\n",
    "builder.add_edge(\"unregister\", END)\n",
    "\n",
    "graph = builder.compile()\n"
   ]
  },
  {
   "cell_type": "code",
   "execution_count": 13,
   "id": "4528b784",
   "metadata": {},
   "outputs": [],
   "source": [
    "# display(Image(graph.get_graph(xray=True).draw_mermaid_png()))"
   ]
  },
  {
   "cell_type": "code",
   "execution_count": 12,
   "id": "5634cde7",
   "metadata": {},
   "outputs": [
    {
     "name": "stdout",
     "output_type": "stream",
     "text": [
      "🔐 unregister node...\n",
      "==================================\u001b[1m Ai Message \u001b[0m==================================\n",
      "\n",
      "Hi there! How can I help you today?\n"
     ]
    }
   ],
   "source": [
    "state = {\n",
    "    \"status\": \"unregistered\",\n",
    "    \"user_id\": None,\n",
    "    \"messages\": [HumanMessage(content=\"hi\")]\n",
    "}\n",
    "\n",
    "thread = {\"configurable\": {\"thread_id\": \"1\"}}\n",
    "\n",
    "# 1st: greet\n",
    "for event in graph.stream(state, thread, stream_mode=\"values\"):\n",
    "    state = event\n",
    "    last_msg = event[\"messages\"][-1]\n",
    "    if isinstance(last_msg, AIMessage):\n",
    "        last_msg.pretty_print()\n",
    "\n"
   ]
  },
  {
   "cell_type": "code",
   "execution_count": 13,
   "id": "b8b95db1",
   "metadata": {},
   "outputs": [
    {
     "name": "stdout",
     "output_type": "stream",
     "text": [
      "User wants to book but is unregistered.\n",
      "🔐 unregister node...\n",
      "==================================\u001b[1m Ai Message \u001b[0m==================================\n",
      "\n",
      "I'd be happy to help you book a ticket, but I'll need to verify your registration first.  It seems you haven't registered yet. To access the booking feature, please register using this link: https://google.com  (Please note: This is a placeholder link.  The actual registration link will be different).\n",
      "\n",
      "Once you've completed registration, let me know, and I can assist you with your ticket booking.\n"
     ]
    }
   ],
   "source": [
    "\n",
    "state[\"messages\"].append(HumanMessage(content=\"i want to book ticket\"))\n",
    "for event in graph.stream(state, thread, stream_mode=\"values\"):\n",
    "    state = event\n",
    "    last_msg = event[\"messages\"][-1]\n",
    "    if isinstance(last_msg, AIMessage):\n",
    "        last_msg.pretty_print()\n",
    "\n"
   ]
  },
  {
   "cell_type": "code",
   "execution_count": 14,
   "id": "56ee9f93",
   "metadata": {},
   "outputs": [
    {
     "name": "stdout",
     "output_type": "stream",
     "text": [
      "🔐 unregister node...\n",
      "✅ User confirmed registration\n",
      "==================================\u001b[1m Ai Message \u001b[0m==================================\n",
      "\n",
      "🎉 You're now registered! How can I help you?\n"
     ]
    }
   ],
   "source": [
    "\n",
    "state[\"messages\"].append(HumanMessage(content=\"ok i have registered\"))\n",
    "for event in graph.stream(state, thread, stream_mode=\"values\"):\n",
    "    state = event\n",
    "    last_msg = event[\"messages\"][-1]\n",
    "    if isinstance(last_msg, AIMessage):\n",
    "        last_msg.pretty_print()\n"
   ]
  },
  {
   "cell_type": "code",
   "execution_count": 15,
   "id": "062cc7a3",
   "metadata": {},
   "outputs": [
    {
     "name": "stdout",
     "output_type": "stream",
     "text": [
      "User wants to book and is already registered.\n",
      "register node...\n",
      "==================================\u001b[1m Ai Message \u001b[0m==================================\n",
      "\n",
      "Welcome back! What would you like to do?\n"
     ]
    }
   ],
   "source": [
    "\n",
    "\n",
    "state[\"messages\"].append(HumanMessage(content=\"book a call\"))\n",
    "for event in graph.stream(state, thread, stream_mode=\"values\"):\n",
    "    state = event\n",
    "    last_msg = event[\"messages\"][-1]\n",
    "    if isinstance(last_msg, AIMessage):\n",
    "        last_msg.pretty_print()\n"
   ]
  },
  {
   "cell_type": "code",
   "execution_count": null,
   "id": "1c6b2f34",
   "metadata": {},
   "outputs": [],
   "source": []
  }
 ],
 "metadata": {
  "kernelspec": {
   "display_name": "Python 3",
   "language": "python",
   "name": "python3"
  },
  "language_info": {
   "codemirror_mode": {
    "name": "ipython",
    "version": 3
   },
   "file_extension": ".py",
   "mimetype": "text/x-python",
   "name": "python",
   "nbconvert_exporter": "python",
   "pygments_lexer": "ipython3",
   "version": "3.12.5"
  }
 },
 "nbformat": 4,
 "nbformat_minor": 5
}
